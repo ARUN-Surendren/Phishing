{
 "cells": [
  {
   "cell_type": "code",
   "execution_count": 1,
   "metadata": {},
   "outputs": [],
   "source": [
    "import pandas as pd"
   ]
  },
  {
   "cell_type": "code",
   "execution_count": 2,
   "metadata": {},
   "outputs": [],
   "source": [
    "df=pd.read_csv(\"target.csv\")"
   ]
  },
  {
   "cell_type": "code",
   "execution_count": 3,
   "metadata": {},
   "outputs": [
    {
     "data": {
      "text/html": [
       "<div>\n",
       "<style scoped>\n",
       "    .dataframe tbody tr th:only-of-type {\n",
       "        vertical-align: middle;\n",
       "    }\n",
       "\n",
       "    .dataframe tbody tr th {\n",
       "        vertical-align: top;\n",
       "    }\n",
       "\n",
       "    .dataframe thead th {\n",
       "        text-align: right;\n",
       "    }\n",
       "</style>\n",
       "<table border=\"1\" class=\"dataframe\">\n",
       "  <thead>\n",
       "    <tr style=\"text-align: right;\">\n",
       "      <th></th>\n",
       "      <th>target</th>\n",
       "    </tr>\n",
       "  </thead>\n",
       "  <tbody>\n",
       "    <tr>\n",
       "      <td>0</td>\n",
       "      <td>Other</td>\n",
       "    </tr>\n",
       "    <tr>\n",
       "      <td>1</td>\n",
       "      <td>Other</td>\n",
       "    </tr>\n",
       "    <tr>\n",
       "      <td>2</td>\n",
       "      <td>Other</td>\n",
       "    </tr>\n",
       "    <tr>\n",
       "      <td>3</td>\n",
       "      <td>Other</td>\n",
       "    </tr>\n",
       "    <tr>\n",
       "      <td>4</td>\n",
       "      <td>Other</td>\n",
       "    </tr>\n",
       "    <tr>\n",
       "      <td>...</td>\n",
       "      <td>...</td>\n",
       "    </tr>\n",
       "    <tr>\n",
       "      <td>9314</td>\n",
       "      <td>Yahoo</td>\n",
       "    </tr>\n",
       "    <tr>\n",
       "      <td>9315</td>\n",
       "      <td>PayPal</td>\n",
       "    </tr>\n",
       "    <tr>\n",
       "      <td>9316</td>\n",
       "      <td>Sulake Corporation</td>\n",
       "    </tr>\n",
       "    <tr>\n",
       "      <td>9317</td>\n",
       "      <td>Sulake Corporation</td>\n",
       "    </tr>\n",
       "    <tr>\n",
       "      <td>9318</td>\n",
       "      <td>Other</td>\n",
       "    </tr>\n",
       "  </tbody>\n",
       "</table>\n",
       "<p>9319 rows × 1 columns</p>\n",
       "</div>"
      ],
      "text/plain": [
       "                  target\n",
       "0                  Other\n",
       "1                  Other\n",
       "2                  Other\n",
       "3                  Other\n",
       "4                  Other\n",
       "...                  ...\n",
       "9314               Yahoo\n",
       "9315              PayPal\n",
       "9316  Sulake Corporation\n",
       "9317  Sulake Corporation\n",
       "9318               Other\n",
       "\n",
       "[9319 rows x 1 columns]"
      ]
     },
     "execution_count": 3,
     "metadata": {},
     "output_type": "execute_result"
    }
   ],
   "source": [
    "df"
   ]
  },
  {
   "cell_type": "code",
   "execution_count": 10,
   "metadata": {},
   "outputs": [],
   "source": [
    "tr=df['target']\n",
    "op=set(tr)\n"
   ]
  },
  {
   "cell_type": "code",
   "execution_count": 11,
   "metadata": {},
   "outputs": [
    {
     "data": {
      "text/plain": [
       "{'ABN AMRO Bank',\n",
       " 'ABSA Bank',\n",
       " 'AOL',\n",
       " 'ASB Bank Limited',\n",
       " 'AT&amp;T',\n",
       " 'Adobe',\n",
       " 'Aetna Health Plans &amp; Dental Coverage',\n",
       " 'Alibaba.com',\n",
       " 'Allegro',\n",
       " 'Alliance Bank',\n",
       " 'Amazon.com',\n",
       " 'American Express',\n",
       " 'Americanas.com',\n",
       " 'Apple',\n",
       " 'BMO Financial',\n",
       " 'Banco De Brasil',\n",
       " 'Banco Real',\n",
       " 'Bank of America Corporation',\n",
       " 'Barclays Bank PLC',\n",
       " 'Blizzard',\n",
       " 'Blockchain',\n",
       " 'Bradesco',\n",
       " 'Branch Banking and Trust Company',\n",
       " 'CIMB Bank',\n",
       " 'Caixa',\n",
       " 'Capitec Bank',\n",
       " 'Cartasi',\n",
       " 'Cielo',\n",
       " 'Citibank',\n",
       " 'Citizens Bank',\n",
       " 'DHL',\n",
       " 'Delta Air Lines',\n",
       " 'Development Bank of Singapore',\n",
       " 'Dropbox',\n",
       " 'Facebook',\n",
       " 'Google',\n",
       " 'HSBC Group',\n",
       " \"Her Majesty's Revenue and Customs\",\n",
       " 'Hotmail',\n",
       " 'IDEX',\n",
       " 'ING Direct',\n",
       " 'Internal Revenue Service',\n",
       " 'Itau',\n",
       " 'JPMorgan Chase and Co.',\n",
       " 'LinkedIn',\n",
       " 'Live',\n",
       " 'Lloyds Bank',\n",
       " 'LocalBitcoins.com',\n",
       " 'Mastercard',\n",
       " 'Microsoft',\n",
       " 'MyEtherWallet',\n",
       " 'Netflix',\n",
       " 'Nubank',\n",
       " 'Orange',\n",
       " 'Other',\n",
       " 'PKO Polish Bank',\n",
       " 'PNC Bank',\n",
       " 'PayPal',\n",
       " 'Poste Italiane',\n",
       " 'Rabobank',\n",
       " 'Royal Bank of Scotland',\n",
       " 'RuneScape',\n",
       " 'Santander UK',\n",
       " 'Scotiabank',\n",
       " 'Steam',\n",
       " 'Sulake Corporation',\n",
       " 'Suncorp',\n",
       " 'Swedbank',\n",
       " 'TD Ameritrade',\n",
       " 'Twitter',\n",
       " 'Uber',\n",
       " 'UniCredit',\n",
       " 'United Services Automobile Association',\n",
       " 'Visa',\n",
       " 'Vodafone',\n",
       " 'Volksbanken Raiffeisenbanken',\n",
       " 'WalMart',\n",
       " 'Wells Fargo',\n",
       " 'Western Union',\n",
       " 'Westpac',\n",
       " 'WhatsApp',\n",
       " 'Yahoo',\n",
       " 'eBay, Inc.'}"
      ]
     },
     "execution_count": 11,
     "metadata": {},
     "output_type": "execute_result"
    }
   ],
   "source": [
    "op"
   ]
  },
  {
   "cell_type": "code",
   "execution_count": 13,
   "metadata": {},
   "outputs": [
    {
     "data": {
      "text/plain": [
       "83"
      ]
     },
     "execution_count": 13,
     "metadata": {},
     "output_type": "execute_result"
    }
   ],
   "source": [
    "len(op)"
   ]
  },
  {
   "cell_type": "code",
   "execution_count": null,
   "metadata": {},
   "outputs": [],
   "source": []
  }
 ],
 "metadata": {
  "kernelspec": {
   "display_name": "Python 3",
   "language": "python",
   "name": "python3"
  },
  "language_info": {
   "codemirror_mode": {
    "name": "ipython",
    "version": 3
   },
   "file_extension": ".py",
   "mimetype": "text/x-python",
   "name": "python",
   "nbconvert_exporter": "python",
   "pygments_lexer": "ipython3",
   "version": "3.7.4"
  }
 },
 "nbformat": 4,
 "nbformat_minor": 2
}
